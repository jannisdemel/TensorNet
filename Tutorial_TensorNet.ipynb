{
 "cells": [
  {
   "cell_type": "markdown",
   "metadata": {},
   "source": [
    "# Tutorial: TensorNet\n",
    "This notebook will go step by step through one forward pass of the TensorNet architecture."
   ]
  },
  {
   "cell_type": "code",
   "execution_count": 1,
   "metadata": {},
   "outputs": [],
   "source": [
    "import torch\n",
    "from matplotlib import pyplot as plt\n",
    "from tensornet import *\n",
    "from sympy import Matrix\n",
    "import numpy as np"
   ]
  },
  {
   "cell_type": "markdown",
   "metadata": {},
   "source": [
    "## Data generation\n",
    "The way the model is implemented, the input for a forward pass consists of a batch of $M$ molecules made up by $N$ atoms in total. For the purpose of this notebook we will create a batch with $M=2$ molecules that are made up by $N=7$ atoms ins total."
   ]
  },
  {
   "cell_type": "code",
   "execution_count": 2,
   "metadata": {},
   "outputs": [
    {
     "data": {
      "image/png": "[encoded data removed]",
      "text/plain": [
       "<Figure size 1200x400 with 2 Axes>"
      ]
     },
     "metadata": {},
     "output_type": "display_data"
    }
   ],
   "source": [
    "# create 2 molecules with 7 atoms\n",
    "pos = [[0, 0, 0], [-1, 0, 0], [1, 0.2, 0], [1, -0.2, 0], [0, 0, 0], [1, 0, 0], [0.5, 0.5, 0]]\n",
    "batch = [0, 0, 0, 0, 1, 1, 1]\n",
    "atom_ind = [2, 0, 0, 0, 2, 1, 1]\n",
    "# plot the two molecules\n",
    "fig, ax = plt.subplots(1,2, figsize=(12,4))\n",
    "colors = ['r', 'b', 'g']\n",
    "for n, (atom, mol, ind)  in enumerate(zip(pos, batch, atom_ind)):\n",
    "    ax[mol].scatter(atom[0], atom[1], c=colors[ind], s=50*(ind+1))\n",
    "    ax[mol].text(atom[0]+0.02, atom[1]+0.02, str(n), color='black', fontsize=12)\n",
    "ax[0].set_title('Molecule 1')\n",
    "ax[1].set_title('Molecule 2')\n",
    "ax[0].set_xlabel('x')\n",
    "ax[0].set_ylabel('y')\n",
    "ax[1].set_xlabel('x')\n",
    "ax[1].set_ylabel('y')\n",
    "ax[0].set_ylim(-0.25, 0.25)\n",
    "ax[0].set_xlim(-1.1, 1.2)\n",
    "ax[1].set_ylim(-0.25, 0.75)\n",
    "ax[1].set_xlim(-0.4, 1.2);"
   ]
  },
  {
   "cell_type": "markdown",
   "metadata": {},
   "source": [
    "As we can see here, a molecule $\\mathcal{M}_i$ is defined by its number of atoms $N_i$, the position of the atoms $\\{\\vec{r}_n,n=1,...,N_i\\}$ and their atomic numbers $\\{Z_n,n=1,...,N_i\\}$ (where this do not have to be the real atomic number, but they should be different for different atoms).\n",
    "\n",
    "The way that the model is written, the input to the forward method is an object `batch_input` that has these information as attributes:\n",
    "- `batch_input.pos`: A tensor of shape $[N,3]$, where the positions of all $N$ atoms are stored\n",
    "- `batch_input.atom_ind`: A tensor of shape $N$ with the atomic numbers of the $N$ atoms\n",
    "- `batch_input.batch`: A tensor of shape $[N]$, that defines which atom belongs to which molecule. In our case it would be $[0, 0, 0, 0, 1, 1, 1]$ defining that the first $4$ atoms build the first molecule and the next $3$ the second. Generally this defines the number of molecules $M$ by `max(batch_input.batch)+1=M`."
   ]
  },
  {
   "cell_type": "code",
   "execution_count": 3,
   "metadata": {},
   "outputs": [],
   "source": [
    "# define input class\n",
    "class input():\n",
    "    def __init__(self, pos, batch, atom_ind):\n",
    "        self.pos = torch.tensor(pos, dtype=torch.float32)\n",
    "        self.batch = torch.tensor(batch, dtype=torch.int32)\n",
    "        self.atom_ind = torch.tensor(atom_ind, dtype=torch.int32)\n",
    "# define input object\n",
    "batch_input = input(pos, batch, atom_ind)"
   ]
  },
  {
   "cell_type": "markdown",
   "metadata": {},
   "source": [
    "## Model initialization\n",
    "Now we need to initialize the model with the appropriate hyperparameters."
   ]
  },
  {
   "cell_type": "code",
   "execution_count": 4,
   "metadata": {},
   "outputs": [
    {
     "name": "stderr",
     "output_type": "stream",
     "text": [
      "[W LinearAlgebra.cpp:3037] Warning: at::frobenius_norm is deprecated and it is just left for JIT compatibility. It will be removed in a future PyTorch release. Please use `linalg.vector_norm(A, 2., dim, keepdim)` instead (function operator())\n"
     ]
    },
    {
     "name": "stdout",
     "output_type": "stream",
     "text": [
      "z tensor([2, 0, 0, 0, 2, 1, 1, 0], dtype=torch.int32)\n",
      "Z tensor([[-1.3016,  0.2056],\n",
      "        [ 0.1655, -0.6448],\n",
      "        [ 0.1655, -0.6448],\n",
      "        [ 0.1655, -0.6448],\n",
      "        [-1.3016,  0.2056],\n",
      "        [ 0.2573, -1.9719],\n",
      "        [ 0.2573, -1.9719],\n",
      "        [ 0.1655, -0.6448]], grad_fn=<EmbeddingBackward0>)\n",
      "Intel MKL WARNING: Support of Intel(R) Streaming SIMD Extensions 4.2 (Intel(R) SSE4.2) enabled only processors has been deprecated. Intel oneAPI Math Kernel Library 2025.0 will require Intel(R) Advanced Vector Extensions (Intel(R) AVX) instructions.\n",
      "Model output: tensor([2.4020, 1.8017], grad_fn=<SumBackward1>)\n"
     ]
    }
   ],
   "source": [
    "# initialize model\n",
    "hyperparams = {'hidden_channels': 2,\n",
    "               'num_layers': 1,\n",
    "               'max_z': 3,\n",
    "               'num_rbf': 5,\n",
    "               'cutoff_lower': 0.0, \n",
    "               'cutoff_upper': 1.05, \n",
    "               'max_num_neighbors': 4, \n",
    "               'activation': \"silu\",\n",
    "               'equivariance_invariance_group': \"O(3)\",\n",
    "               'check_errors': True, \n",
    "               'static_shapes': True,\n",
    "               'trainable_rbf': True,\n",
    "               'dtype': \"torch.float32\"}\n",
    "model = TensorNet(**hyperparams)\n",
    "# do the forward pass\n",
    "output = model(batch_input)\n",
    "print('Model output:', output)  "
   ]
  },
  {
   "cell_type": "markdown",
   "metadata": {},
   "source": [
    "We can see that the model output are $M$ scalars, describing a scalar quantity (like energy) of the molecules. "
   ]
  },
  {
   "cell_type": "markdown",
   "metadata": {},
   "source": [
    "## Graph creation\n",
    "If one looks into the `tensornet.py`file one can see that the first thing that happpens is the creation of a graph. This is expected, since TensorNet is a Graph-based model but our input was no graph, so it will need to make the input into a graph. The relevant line is\n",
    "\n",
    "`edge_index, edge_weight, edge_vec = self.distance(pos=pos, batch=batch)`\n",
    "\n",
    "where `self.distance`is an object from the `OptimizedDistance` class imported from `torchmdnet.models.utils`. This will create a graph by connecting nodes that are seperated by less than `cutoff_upper`(which is a hyperparameter) w.r.t their positions."
   ]
  },
  {
   "cell_type": "code",
   "execution_count": 5,
   "metadata": {},
   "outputs": [],
   "source": [
    "# we cant acces the output directly, so we have to calculate it explicitly\n",
    "from torchmdnet.models.utils import OptimizedDistance\n",
    "# define distance object\n",
    "distance = OptimizedDistance(\n",
    "    hyperparams['cutoff_lower'],\n",
    "    hyperparams['cutoff_upper'],\n",
    "    max_num_pairs=-hyperparams['max_num_neighbors'],\n",
    "    return_vecs=True,\n",
    "    loop=True,\n",
    "    check_errors=hyperparams['check_errors'],\n",
    "    resize_to_fit= not hyperparams['static_shapes'],\n",
    "    box=None, \n",
    "    long_edge_index=True)\n",
    "# create graph\n",
    "edge_index, edge_weight, edge_vec = distance(pos=batch_input.pos, batch=batch_input.batch)"
   ]
  },
  {
   "cell_type": "code",
   "execution_count": 6,
   "metadata": {},
   "outputs": [
    {
     "name": "stdout",
     "output_type": "stream",
     "text": [
      "Edge index (torch.Size([2, 28])):\n"
     ]
    },
    {
     "data": {
      "text/latex": [
       "$\\displaystyle \\left[\\begin{array}{cccccccccccccccccccccccccccc}1 & 2 & 3 & 3 & 5 & 6 & 6 & 0 & 0 & 0 & 2 & 4 & 4 & 5 & 0 & 1 & 2 & 3 & 4 & 5 & 6 & -1 & -1 & -1 & -1 & -1 & -1 & -1\\\\0 & 0 & 0 & 2 & 4 & 4 & 5 & 1 & 2 & 3 & 3 & 5 & 6 & 6 & 0 & 1 & 2 & 3 & 4 & 5 & 6 & -1 & -1 & -1 & -1 & -1 & -1 & -1\\end{array}\\right]$"
      ],
      "text/plain": [
       "Matrix([\n",
       "[1, 2, 3, 3, 5, 6, 6, 0, 0, 0, 2, 4, 4, 5, 0, 1, 2, 3, 4, 5, 6, -1, -1, -1, -1, -1, -1, -1],\n",
       "[0, 0, 0, 2, 4, 4, 5, 1, 2, 3, 3, 5, 6, 6, 0, 1, 2, 3, 4, 5, 6, -1, -1, -1, -1, -1, -1, -1]])"
      ]
     },
     "metadata": {},
     "output_type": "display_data"
    }
   ],
   "source": [
    "print(f'Edge index ({edge_index.shape}):')\n",
    "display(Matrix(edge_index.numpy()))"
   ]
  },
  {
   "cell_type": "code",
   "execution_count": 7,
   "metadata": {},
   "outputs": [
    {
     "name": "stdout",
     "output_type": "stream",
     "text": [
      "Edge weight (torch.Size([28]) but shown transposed here):\n"
     ]
    },
    {
     "data": {
      "text/latex": [
       "$\\displaystyle \\left[\\begin{array}{cccccccccccccccccccccccccccc}1.0 & 1.0198 & 1.0198 & 0.4 & 1.0 & 0.707107 & 0.707107 & 1.0 & 1.0198 & 1.0198 & 0.4 & 1.0 & 0.707107 & 0.707107 & 0 & 0 & 0 & 0 & 0 & 0 & 0 & 0 & 0 & 0 & 0 & 0 & 0 & 0\\end{array}\\right]$"
      ],
      "text/plain": [
       "Matrix([[1.0, 1.0198, 1.0198, 0.4, 1.0, 0.707107, 0.707107, 1.0, 1.0198, 1.0198, 0.4, 1.0, 0.707107, 0.707107, 0, 0, 0, 0, 0, 0, 0, 0, 0, 0, 0, 0, 0, 0]])"
      ]
     },
     "metadata": {},
     "output_type": "display_data"
    }
   ],
   "source": [
    "print(f'Edge weight ({edge_weight.shape} but shown transposed here):')\n",
    "display(Matrix(edge_weight.unsqueeze(0).numpy())) "
   ]
  },
  {
   "cell_type": "code",
   "execution_count": 8,
   "metadata": {},
   "outputs": [
    {
     "name": "stdout",
     "output_type": "stream",
     "text": [
      "Edge vec (torch.Size([28, 3])):\n"
     ]
    },
    {
     "data": {
      "text/latex": [
       "$\\displaystyle \\left[\\begin{matrix}-1.0 & 0 & 0\\\\1.0 & 0.2 & 0\\\\1.0 & -0.2 & 0\\\\0 & -0.4 & 0\\\\1.0 & 0 & 0\\\\0.5 & 0.5 & 0\\\\-0.5 & 0.5 & 0\\\\1.0 & 0 & 0\\\\-1.0 & -0.2 & 0\\\\-1.0 & 0.2 & 0\\\\0 & 0.4 & 0\\\\-1.0 & 0 & 0\\\\-0.5 & -0.5 & 0\\\\0.5 & -0.5 & 0\\\\0 & 0 & 0\\\\0 & 0 & 0\\\\0 & 0 & 0\\\\0 & 0 & 0\\\\0 & 0 & 0\\\\0 & 0 & 0\\\\0 & 0 & 0\\\\0 & 0 & 0\\\\0 & 0 & 0\\\\0 & 0 & 0\\\\0 & 0 & 0\\\\0 & 0 & 0\\\\0 & 0 & 0\\\\0 & 0 & 0\\end{matrix}\\right]$"
      ],
      "text/plain": [
       "Matrix([\n",
       "[-1.0,    0, 0],\n",
       "[ 1.0,  0.2, 0],\n",
       "[ 1.0, -0.2, 0],\n",
       "[   0, -0.4, 0],\n",
       "[ 1.0,    0, 0],\n",
       "[ 0.5,  0.5, 0],\n",
       "[-0.5,  0.5, 0],\n",
       "[ 1.0,    0, 0],\n",
       "[-1.0, -0.2, 0],\n",
       "[-1.0,  0.2, 0],\n",
       "[   0,  0.4, 0],\n",
       "[-1.0,    0, 0],\n",
       "[-0.5, -0.5, 0],\n",
       "[ 0.5, -0.5, 0],\n",
       "[   0,    0, 0],\n",
       "[   0,    0, 0],\n",
       "[   0,    0, 0],\n",
       "[   0,    0, 0],\n",
       "[   0,    0, 0],\n",
       "[   0,    0, 0],\n",
       "[   0,    0, 0],\n",
       "[   0,    0, 0],\n",
       "[   0,    0, 0],\n",
       "[   0,    0, 0],\n",
       "[   0,    0, 0],\n",
       "[   0,    0, 0],\n",
       "[   0,    0, 0],\n",
       "[   0,    0, 0]])"
      ]
     },
     "metadata": {},
     "output_type": "display_data"
    }
   ],
   "source": [
    "print(f'Edge vec ({edge_vec.shape}):')\n",
    "display(Matrix(edge_vec.numpy()))"
   ]
  },
  {
   "cell_type": "markdown",
   "metadata": {},
   "source": [
    "We can see that the graph creation returns three tensors:\n",
    "- `edge_index`: A tensor of shape $[2, N *$ `max_num_neighbors`], where each column defines the starting and ending node of an edge. If we use `static_shapes=True` the model will enforce static shape for this tensor. This means, the model expects exactly `max_num_neighbors`neighbors for each node and if less neighbors are found it is filles with $(-1,-1)$. One should also note, that the model allows for self-loops. Futhermore, the way we create a graph it is undirected, meaning if $(i,j)$ is an egde, $(j,i)$ is as well.\n",
    "- `edge_weight`: A tensor of shape $[N *$ `max_num_neighbors`], that defines the length of each edge. Nonexisting edges have length 0.\n",
    "- `edge_vec`: A tensor of shape $[N *$ `max_num_neighbors`$,3]$, where each row defined the edge vector to that particular edge. Nonexisting edges get a zero vector.\n",
    "We now want to plot the edges."
   ]
  },
  {
   "cell_type": "code",
   "execution_count": 9,
   "metadata": {},
   "outputs": [
    {
     "data": {
      "image/png": "[encoded data removed]",
      "text/plain": [
       "<Figure size 1200x400 with 2 Axes>"
      ]
     },
     "metadata": {},
     "output_type": "display_data"
    }
   ],
   "source": [
    "# plot the two molecules\n",
    "fig, ax = plt.subplots(1,2, figsize=(12,4))\n",
    "colors = ['r', 'b', 'g']\n",
    "for n, (atom, mol, ind)  in enumerate(zip(pos, batch, atom_ind)):\n",
    "    ax[mol].scatter(atom[0], atom[1], c=colors[ind], s=50*(ind+1))\n",
    "    ax[mol].text(atom[0]+0.03, atom[1]+0.01, str(n), color='black', fontsize=12)\n",
    "ax[0].set_title('Molecule 1')\n",
    "ax[1].set_title('Molecule 2')\n",
    "ax[0].set_xlabel('x')\n",
    "ax[0].set_ylabel('y')\n",
    "ax[1].set_xlabel('x')\n",
    "ax[1].set_ylabel('y')\n",
    "ax[0].set_ylim(-0.25, 0.25)\n",
    "ax[0].set_xlim(-1.1, 1.2)\n",
    "ax[1].set_ylim(-0.25, 0.75)\n",
    "ax[1].set_xlim(-0.4, 1.2)\n",
    "# add edges\n",
    "for edge, start, end in zip(edge_vec, edge_index[0], edge_index[1]):\n",
    "    # only take existing edges that are not self loops\n",
    "    if np.linalg.norm(edge.numpy())>0:\n",
    "        start_point = pos[start.numpy()]\n",
    "        end_point = pos[end.numpy()]\n",
    "        axis = ax[batch[start.numpy()]]\n",
    "        axis.plot([start_point[0], end_point[0]], [start_point[1], end_point[1]], 'b-')\n"
   ]
  },
  {
   "cell_type": "markdown",
   "metadata": {},
   "source": [
    "### Trick: Ghost atom"
   ]
  },
  {
   "cell_type": "markdown",
   "metadata": {},
   "source": [
    "Enforcing static shapes can increase performance but it means that e.g. `edge_index` will be filled with $(-1,-1)$ pairs until we get the desired shape. One can decrease this effect by adjusting the hyperparameter `max_num_neighbors`, but this will still cause problems later on with operations, since $-1$ is no real node. In the paper they get around this problem by introducing a $N+1$ atom - the ghost atom - and all non-existing edges will be loops of this ghost atoms. This means, that there will be no more $(-1,-1)$ pairs in `edge_index` which helps with operations later on."
   ]
  },
  {
   "cell_type": "code",
   "execution_count": 10,
   "metadata": {},
   "outputs": [],
   "source": [
    "# create a mask that is True for the nonexisting edges\n",
    "mask = (edge_index[0] < 0).unsqueeze(0).expand_as(edge_index)\n",
    "# I trick the model into thinking that the masked edges pertain to the extra atom with index N=z.shape[0]\n",
    "edge_index = edge_index.masked_fill(mask, batch_input.atom_ind.shape[0])\n",
    "# Since we now have N+1 atoms, we need to add the ghost atom to the atomic numbers and choose 0 \n",
    "z = torch.cat((batch_input.atom_ind, torch.zeros(1, device=batch_input.atom_ind.device, dtype=batch_input.atom_ind.dtype)), dim=0)"
   ]
  },
  {
   "cell_type": "code",
   "execution_count": 11,
   "metadata": {},
   "outputs": [
    {
     "name": "stdout",
     "output_type": "stream",
     "text": [
      "Edge index (torch.Size([2, 28])):\n"
     ]
    },
    {
     "data": {
      "text/latex": [
       "$\\displaystyle \\left[\\begin{array}{cccccccccccccccccccccccccccc}1 & 2 & 3 & 3 & 5 & 6 & 6 & 0 & 0 & 0 & 2 & 4 & 4 & 5 & 0 & 1 & 2 & 3 & 4 & 5 & 6 & 7 & 7 & 7 & 7 & 7 & 7 & 7\\\\0 & 0 & 0 & 2 & 4 & 4 & 5 & 1 & 2 & 3 & 3 & 5 & 6 & 6 & 0 & 1 & 2 & 3 & 4 & 5 & 6 & 7 & 7 & 7 & 7 & 7 & 7 & 7\\end{array}\\right]$"
      ],
      "text/plain": [
       "Matrix([\n",
       "[1, 2, 3, 3, 5, 6, 6, 0, 0, 0, 2, 4, 4, 5, 0, 1, 2, 3, 4, 5, 6, 7, 7, 7, 7, 7, 7, 7],\n",
       "[0, 0, 0, 2, 4, 4, 5, 1, 2, 3, 3, 5, 6, 6, 0, 1, 2, 3, 4, 5, 6, 7, 7, 7, 7, 7, 7, 7]])"
      ]
     },
     "metadata": {},
     "output_type": "display_data"
    }
   ],
   "source": [
    "# 7 is the index of the ghost atom\n",
    "print(f'Edge index ({edge_index.shape}):')\n",
    "display(Matrix(edge_index.numpy()))"
   ]
  },
  {
   "cell_type": "markdown",
   "metadata": {},
   "source": [
    "## Preparations for embedding\n",
    "Before we can call the embedding module, we need to do two things: Normalize the edge vectors and embed the distances."
   ]
  },
  {
   "cell_type": "markdown",
   "metadata": {},
   "source": [
    "The expansion of the interatomic distances $r$ in terms of exponential radial basis functions with mean $\\mu_k$ and (inverse) variance $\\beta_k$ is defined in formula 6 of the paper\n",
    "$$ e_k^{RBF}(r)=e^{-\\beta_k \\cdot ( e^{-r}-\\mu_k)^2} $$\n",
    "This expansion is handled by the `ExpNormalSmearing`module. The most important hyperparameter for this are `num_rbf` and `trainable_rbf` which define how many radial basis functions (RBF) are used and if the $\\{\\mu_k,\\beta_k\\}$ are trainable parameters.\n",
    "\n",
    "The initialization is explained in the paper, for our case `num_rbf=5`so we have 5 RBFs:"
   ]
  },
  {
   "cell_type": "code",
   "execution_count": 12,
   "metadata": {},
   "outputs": [
    {
     "name": "stdout",
     "output_type": "stream",
     "text": [
      "Initial mu: Parameter containing:\n",
      "tensor([0.3499, 0.5125, 0.6750, 0.8375, 1.0000], requires_grad=True)\n",
      "Initial beta: Parameter containing:\n",
      "tensor([14.7901, 14.7901, 14.7901, 14.7901, 14.7901], requires_grad=True)\n"
     ]
    }
   ],
   "source": [
    "from tensornet import ExpNormalSmearing\n",
    "# instantiate the smearing object\n",
    "distance_expansion = ExpNormalSmearing(\n",
    "                                         hyperparams['cutoff_lower'],    \n",
    "                                         hyperparams['cutoff_upper'],\n",
    "                                         hyperparams['num_rbf'],\n",
    "                                         trainable=hyperparams['trainable_rbf'],\n",
    "                                         dtype=torch.float32)\n",
    "# get inital parameters\n",
    "print('Initial mu:',distance_expansion.means)\n",
    "print('Initial beta:',distance_expansion.betas)"
   ]
  },
  {
   "cell_type": "code",
   "execution_count": 13,
   "metadata": {},
   "outputs": [
    {
     "name": "stdout",
     "output_type": "stream",
     "text": [
      "Edge weight (torch.Size([28])):\n"
     ]
    },
    {
     "data": {
      "text/latex": [
       "$\\displaystyle \\left[\\begin{matrix}1.0\\\\1.0198\\\\1.0198\\\\0.4\\\\1.0\\\\0.707107\\\\0.707107\\\\1.0\\\\1.0198\\\\1.0198\\\\0.4\\\\1.0\\\\0.707107\\\\0.707107\\\\0\\\\0\\\\0\\\\0\\\\0\\\\0\\\\0\\\\0\\\\0\\\\0\\\\0\\\\0\\\\0\\\\0\\end{matrix}\\right]$"
      ],
      "text/plain": [
       "Matrix([\n",
       "[     1.0],\n",
       "[  1.0198],\n",
       "[  1.0198],\n",
       "[     0.4],\n",
       "[     1.0],\n",
       "[0.707107],\n",
       "[0.707107],\n",
       "[     1.0],\n",
       "[  1.0198],\n",
       "[  1.0198],\n",
       "[     0.4],\n",
       "[     1.0],\n",
       "[0.707107],\n",
       "[0.707107],\n",
       "[       0],\n",
       "[       0],\n",
       "[       0],\n",
       "[       0],\n",
       "[       0],\n",
       "[       0],\n",
       "[       0],\n",
       "[       0],\n",
       "[       0],\n",
       "[       0],\n",
       "[       0],\n",
       "[       0],\n",
       "[       0],\n",
       "[       0]])"
      ]
     },
     "metadata": {},
     "output_type": "display_data"
    },
    {
     "name": "stdout",
     "output_type": "stream",
     "text": [
      "Edge attr (torch.Size([28, 5])):\n"
     ]
    },
    {
     "data": {
      "text/latex": [
       "$\\displaystyle \\left[\\begin{matrix}0.178 & 0.023 & 0.001 & 0 & 0\\\\0.177 & 0.023 & 0.001 & 0 & 0\\\\0.177 & 0.023 & 0.001 & 0 & 0\\\\0.55 & 0.142 & 0.017 & 0.001 & 0\\\\0.178 & 0.023 & 0.001 & 0 & 0\\\\0.23 & 0.034 & 0.002 & 0 & 0\\\\0.23 & 0.034 & 0.002 & 0 & 0\\\\0.178 & 0.023 & 0.001 & 0 & 0\\\\0.177 & 0.023 & 0.001 & 0 & 0\\\\0.177 & 0.023 & 0.001 & 0 & 0\\\\0.55 & 0.142 & 0.017 & 0.001 & 0\\\\0.178 & 0.023 & 0.001 & 0 & 0\\\\0.23 & 0.034 & 0.002 & 0 & 0\\\\0.23 & 0.034 & 0.002 & 0 & 0\\\\0.002 & 0.03 & 0.21 & 0.677 & 1.0\\\\0.002 & 0.03 & 0.21 & 0.677 & 1.0\\\\0.002 & 0.03 & 0.21 & 0.677 & 1.0\\\\0.002 & 0.03 & 0.21 & 0.677 & 1.0\\\\0.002 & 0.03 & 0.21 & 0.677 & 1.0\\\\0.002 & 0.03 & 0.21 & 0.677 & 1.0\\\\0.002 & 0.03 & 0.21 & 0.677 & 1.0\\\\0.002 & 0.03 & 0.21 & 0.677 & 1.0\\\\0.002 & 0.03 & 0.21 & 0.677 & 1.0\\\\0.002 & 0.03 & 0.21 & 0.677 & 1.0\\\\0.002 & 0.03 & 0.21 & 0.677 & 1.0\\\\0.002 & 0.03 & 0.21 & 0.677 & 1.0\\\\0.002 & 0.03 & 0.21 & 0.677 & 1.0\\\\0.002 & 0.03 & 0.21 & 0.677 & 1.0\\end{matrix}\\right]$"
      ],
      "text/plain": [
       "Matrix([\n",
       "[0.178, 0.023, 0.001,     0,   0],\n",
       "[0.177, 0.023, 0.001,     0,   0],\n",
       "[0.177, 0.023, 0.001,     0,   0],\n",
       "[ 0.55, 0.142, 0.017, 0.001,   0],\n",
       "[0.178, 0.023, 0.001,     0,   0],\n",
       "[ 0.23, 0.034, 0.002,     0,   0],\n",
       "[ 0.23, 0.034, 0.002,     0,   0],\n",
       "[0.178, 0.023, 0.001,     0,   0],\n",
       "[0.177, 0.023, 0.001,     0,   0],\n",
       "[0.177, 0.023, 0.001,     0,   0],\n",
       "[ 0.55, 0.142, 0.017, 0.001,   0],\n",
       "[0.178, 0.023, 0.001,     0,   0],\n",
       "[ 0.23, 0.034, 0.002,     0,   0],\n",
       "[ 0.23, 0.034, 0.002,     0,   0],\n",
       "[0.002,  0.03,  0.21, 0.677, 1.0],\n",
       "[0.002,  0.03,  0.21, 0.677, 1.0],\n",
       "[0.002,  0.03,  0.21, 0.677, 1.0],\n",
       "[0.002,  0.03,  0.21, 0.677, 1.0],\n",
       "[0.002,  0.03,  0.21, 0.677, 1.0],\n",
       "[0.002,  0.03,  0.21, 0.677, 1.0],\n",
       "[0.002,  0.03,  0.21, 0.677, 1.0],\n",
       "[0.002,  0.03,  0.21, 0.677, 1.0],\n",
       "[0.002,  0.03,  0.21, 0.677, 1.0],\n",
       "[0.002,  0.03,  0.21, 0.677, 1.0],\n",
       "[0.002,  0.03,  0.21, 0.677, 1.0],\n",
       "[0.002,  0.03,  0.21, 0.677, 1.0],\n",
       "[0.002,  0.03,  0.21, 0.677, 1.0],\n",
       "[0.002,  0.03,  0.21, 0.677, 1.0]])"
      ]
     },
     "metadata": {},
     "output_type": "display_data"
    }
   ],
   "source": [
    "# do the expansion\n",
    "edge_attr = distance_expansion(edge_weight)\n",
    "# show difference\n",
    "print(f'Edge weight ({edge_weight.shape}):')\n",
    "display(Matrix(edge_weight.detach().numpy()))\n",
    "print(f'Edge attr ({edge_attr.shape}):')\n",
    "display(Matrix(np.round(edge_attr.detach().numpy(),3)))"
   ]
  },
  {
   "cell_type": "markdown",
   "metadata": {},
   "source": [
    "The second thing we have to calculate before the tensor embedding is to normalize the edge vectors. This is pretty straightforward, one only has to take care of self-loops which have length 0 and thus would cause NaNs."
   ]
  },
  {
   "cell_type": "code",
   "execution_count": 14,
   "metadata": {},
   "outputs": [],
   "source": [
    "# we need to normalize the edge vectors. Just dividing them by their length will lead to NaNs since there are edges with length 0 \n",
    "# therefore, all self-loops get a weight of 1 which allows dividing by the length\n",
    "mask_self_loops = edge_index[0] == edge_index[1]\n",
    "edge_vec = edge_vec / edge_weight.masked_fill(mask_self_loops, 1).unsqueeze(1)"
   ]
  },
  {
   "cell_type": "markdown",
   "metadata": {},
   "source": [
    "## Embedding"
   ]
  },
  {
   "cell_type": "markdown",
   "metadata": {},
   "source": [
    "The next step in the forward pass is to call the `TensorEmbedding` module, which will now populate the graph nodes with tensors. The way we do this is by assigning a tensor to each edge $(ij)$ and then populate the nodes by aggregating (summing up) the tensors of neighboring edges.\n",
    "\n",
    "If we want to assign a tensor to the edge $(ij)$ we have the following quantities that can be used: Atomic numbers of the neighboring atoms $Z_i,Z_j$, the length of the edge (expanded in RBFs) $e^{RBF}(r_{ij})$ and the normalized edge vector $\\hat{\\vec{r}}_{ij}$. "
   ]
  },
  {
   "cell_type": "code",
   "execution_count": 17,
   "metadata": {},
   "outputs": [
    {
     "data": {
      "text/plain": [
       "Parameter containing:\n",
       "tensor([[ 0.1655, -0.6448],\n",
       "        [ 0.2573, -1.9719],\n",
       "        [-1.3016,  0.2056]], requires_grad=True)"
      ]
     },
     "execution_count": 17,
     "metadata": {},
     "output_type": "execute_result"
    }
   ],
   "source": [
    "model.tensor_embedding.emb.weight"
   ]
  },
  {
   "cell_type": "markdown",
   "metadata": {},
   "source": []
  }
 ],
 "metadata": {
  "kernelspec": {
   "display_name": "TensorNet",
   "language": "python",
   "name": "python3"
  },
  "language_info": {
   "codemirror_mode": {
    "name": "ipython",
    "version": 3
   },
   "file_extension": ".py",
   "mimetype": "text/x-python",
   "name": "python",
   "nbconvert_exporter": "python",
   "pygments_lexer": "ipython3",
   "version": "3.12.4"
  }
 },
 "nbformat": 4,
 "nbformat_minor": 2
}
